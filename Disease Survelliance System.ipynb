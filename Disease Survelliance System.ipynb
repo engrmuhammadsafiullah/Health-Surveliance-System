{
 "cells": [
  {
   "cell_type": "markdown",
   "id": "9be08d1d",
   "metadata": {},
   "source": [
    "# Disease Surveliance System"
   ]
  },
  {
   "cell_type": "markdown",
   "id": "5d86e3db",
   "metadata": {},
   "source": [
    "#Project: NIH Health Dataset \"Disease Surveliance System\" \n",
    "Trainer: Doctor Muhammad Hussain Mughal\n",
    "Student ID:Suk-101-014\n",
    "\n"
   ]
  },
  {
   "cell_type": "markdown",
   "id": "1368539e",
   "metadata": {},
   "source": [
    "# Importing libararies"
   ]
  },
  {
   "cell_type": "code",
   "execution_count": 21,
   "id": "ead332f6",
   "metadata": {},
   "outputs": [],
   "source": [
    "import numpy as np\n",
    "import pandas as pd\n",
    "import matplotlib.pyplot as plt\n",
    "import seaborn as sns"
   ]
  },
  {
   "cell_type": "markdown",
   "id": "069064bc",
   "metadata": {},
   "source": [
    "# Read csv file"
   ]
  },
  {
   "cell_type": "code",
   "execution_count": 22,
   "id": "b9c3f2de",
   "metadata": {},
   "outputs": [],
   "source": [
    "df=pd.read_csv(\"24-30_May_21.csv\")"
   ]
  },
  {
   "cell_type": "markdown",
   "id": "3175e844",
   "metadata": {},
   "source": [
    "# Data Exploration"
   ]
  },
  {
   "cell_type": "code",
   "execution_count": 23,
   "id": "79e7bcfa",
   "metadata": {},
   "outputs": [
    {
     "data": {
      "text/html": [
       "<div>\n",
       "<style scoped>\n",
       "    .dataframe tbody tr th:only-of-type {\n",
       "        vertical-align: middle;\n",
       "    }\n",
       "\n",
       "    .dataframe tbody tr th {\n",
       "        vertical-align: top;\n",
       "    }\n",
       "\n",
       "    .dataframe thead th {\n",
       "        text-align: right;\n",
       "    }\n",
       "</style>\n",
       "<table border=\"1\" class=\"dataframe\">\n",
       "  <thead>\n",
       "    <tr style=\"text-align: right;\">\n",
       "      <th></th>\n",
       "      <th>Diseases</th>\n",
       "      <th>AJK</th>\n",
       "      <th>Baloch.</th>\n",
       "      <th>GB</th>\n",
       "      <th>ICT</th>\n",
       "      <th>KP</th>\n",
       "      <th>Sindh</th>\n",
       "      <th>Total</th>\n",
       "    </tr>\n",
       "  </thead>\n",
       "  <tbody>\n",
       "    <tr>\n",
       "      <th>0</th>\n",
       "      <td>ILI</td>\n",
       "      <td>0</td>\n",
       "      <td>1349</td>\n",
       "      <td>0</td>\n",
       "      <td>63</td>\n",
       "      <td>752</td>\n",
       "      <td>4271</td>\n",
       "      <td>6435</td>\n",
       "    </tr>\n",
       "    <tr>\n",
       "      <th>1</th>\n",
       "      <td>AD (Non-Cholera)</td>\n",
       "      <td>50</td>\n",
       "      <td>664</td>\n",
       "      <td>10</td>\n",
       "      <td>106</td>\n",
       "      <td>458</td>\n",
       "      <td>3069</td>\n",
       "      <td>4357</td>\n",
       "    </tr>\n",
       "    <tr>\n",
       "      <th>2</th>\n",
       "      <td>Malaria</td>\n",
       "      <td>4</td>\n",
       "      <td>320</td>\n",
       "      <td>0</td>\n",
       "      <td>0</td>\n",
       "      <td>317</td>\n",
       "      <td>592</td>\n",
       "      <td>1233</td>\n",
       "    </tr>\n",
       "    <tr>\n",
       "      <th>3</th>\n",
       "      <td>ALRI &lt; 5 years</td>\n",
       "      <td>0</td>\n",
       "      <td>173</td>\n",
       "      <td>12</td>\n",
       "      <td>0</td>\n",
       "      <td>66</td>\n",
       "      <td>728</td>\n",
       "      <td>979</td>\n",
       "    </tr>\n",
       "    <tr>\n",
       "      <th>4</th>\n",
       "      <td>SARI</td>\n",
       "      <td>0</td>\n",
       "      <td>18</td>\n",
       "      <td>3</td>\n",
       "      <td>0</td>\n",
       "      <td>398</td>\n",
       "      <td>35</td>\n",
       "      <td>454</td>\n",
       "    </tr>\n",
       "    <tr>\n",
       "      <th>5</th>\n",
       "      <td>S. Cholera</td>\n",
       "      <td>0</td>\n",
       "      <td>14</td>\n",
       "      <td>0</td>\n",
       "      <td>0</td>\n",
       "      <td>47</td>\n",
       "      <td>177</td>\n",
       "      <td>238</td>\n",
       "    </tr>\n",
       "    <tr>\n",
       "      <th>6</th>\n",
       "      <td>B. Diarrhea</td>\n",
       "      <td>0</td>\n",
       "      <td>119</td>\n",
       "      <td>0</td>\n",
       "      <td>0</td>\n",
       "      <td>25</td>\n",
       "      <td>297</td>\n",
       "      <td>441</td>\n",
       "    </tr>\n",
       "    <tr>\n",
       "      <th>7</th>\n",
       "      <td>Typhoid</td>\n",
       "      <td>0</td>\n",
       "      <td>67</td>\n",
       "      <td>3</td>\n",
       "      <td>0</td>\n",
       "      <td>101</td>\n",
       "      <td>258</td>\n",
       "      <td>429</td>\n",
       "    </tr>\n",
       "    <tr>\n",
       "      <th>8</th>\n",
       "      <td>VH (B, C &amp; D)</td>\n",
       "      <td>0</td>\n",
       "      <td>9</td>\n",
       "      <td>0</td>\n",
       "      <td>0</td>\n",
       "      <td>6</td>\n",
       "      <td>113</td>\n",
       "      <td>144</td>\n",
       "    </tr>\n",
       "    <tr>\n",
       "      <th>9</th>\n",
       "      <td>Measles</td>\n",
       "      <td>0</td>\n",
       "      <td>16</td>\n",
       "      <td>0</td>\n",
       "      <td>0</td>\n",
       "      <td>30</td>\n",
       "      <td>60</td>\n",
       "      <td>106</td>\n",
       "    </tr>\n",
       "  </tbody>\n",
       "</table>\n",
       "</div>"
      ],
      "text/plain": [
       "           Diseases  AJK  Baloch.  GB  ICT   KP  Sindh  Total\n",
       "0               ILI    0     1349   0   63  752   4271   6435\n",
       "1  AD (Non-Cholera)   50      664  10  106  458   3069   4357\n",
       "2           Malaria    4      320   0    0  317    592   1233\n",
       "3    ALRI < 5 years    0      173  12    0   66    728    979\n",
       "4              SARI    0       18   3    0  398     35    454\n",
       "5        S. Cholera    0       14   0    0   47    177    238\n",
       "6       B. Diarrhea    0      119   0    0   25    297    441\n",
       "7           Typhoid    0       67   3    0  101    258    429\n",
       "8     VH (B, C & D)    0        9   0    0    6    113    144\n",
       "9           Measles    0       16   0    0   30     60    106"
      ]
     },
     "execution_count": 23,
     "metadata": {},
     "output_type": "execute_result"
    }
   ],
   "source": [
    "df"
   ]
  },
  {
   "cell_type": "code",
   "execution_count": 24,
   "id": "4664c7e1",
   "metadata": {},
   "outputs": [],
   "source": [
    "#df_new=df.drop(\"Total\",axis=1)"
   ]
  },
  {
   "cell_type": "code",
   "execution_count": 15,
   "id": "cbdf984d",
   "metadata": {},
   "outputs": [
    {
     "data": {
      "text/plain": [
       "9600"
      ]
     },
     "execution_count": 15,
     "metadata": {},
     "output_type": "execute_result"
    }
   ],
   "source": [
    "np.sum(df_new[\"Sindh\"])"
   ]
  },
  {
   "cell_type": "code",
   "execution_count": 7,
   "id": "a28d5522",
   "metadata": {},
   "outputs": [],
   "source": [
    "# Calculate the total number of patients for all diseases.\n",
    "Each_Province=np.sum(df[['AJK','Baloch.','ICT','KP','Sindh','GB']])"
   ]
  },
  {
   "cell_type": "code",
   "execution_count": 98,
   "id": "de20b897",
   "metadata": {},
   "outputs": [
    {
     "data": {
      "text/plain": [
       "AJK          54\n",
       "Baloch.    2749\n",
       "ICT         169\n",
       "KP         2200\n",
       "Sindh      9600\n",
       "GB           28\n",
       "dtype: int64"
      ]
     },
     "execution_count": 98,
     "metadata": {},
     "output_type": "execute_result"
    }
   ],
   "source": [
    "Each_Province "
   ]
  },
  {
   "cell_type": "code",
   "execution_count": 99,
   "id": "88c953d9",
   "metadata": {},
   "outputs": [],
   "source": [
    "Ajk_mean=np.mean(df[['AJK']])\n",
    "Baloch_mean=np.mean(df[['Baloch.']])\n",
    "ICT_mean=np.mean(df[['ICT']])\n",
    "KP_mean=np.mean(df[['KP']])\n",
    "Sindh_mean=np.mean(df[['Sindh']])\n",
    "GB_mean=np.mean(df[['GB']])"
   ]
  },
  {
   "cell_type": "code",
   "execution_count": 100,
   "id": "0381bb05",
   "metadata": {},
   "outputs": [
    {
     "name": "stdout",
     "output_type": "stream",
     "text": [
      "mean of Ajk 5.4\n",
      "mean of Balochistan 274.9\n",
      "mean of ICT 16.9\n",
      "mean of KP 220.0\n",
      "mean of SINDH 960.0\n",
      "mean of GB 2.8\n"
     ]
    }
   ],
   "source": [
    "print(\"mean of Ajk\", Ajk_mean)\n",
    "print(\"mean of Balochistan\", Baloch_mean)\n",
    "print(\"mean of ICT\", ICT_mean)\n",
    "print(\"mean of KP\", KP_mean)\n",
    "print(\"mean of SINDH\", Sindh_mean)\n",
    "print(\"mean of GB\", GB_mean)"
   ]
  },
  {
   "cell_type": "code",
   "execution_count": 101,
   "id": "1c127b05",
   "metadata": {},
   "outputs": [
    {
     "name": "stdout",
     "output_type": "stream",
     "text": [
      "median of Ajk 0.0\n",
      "median of Balochistan 93.0\n",
      "median of ICT 0.0\n",
      "median of KP 83.5\n",
      "median of SINDH 277.5\n",
      "median of GB 0.0\n"
     ]
    }
   ],
   "source": [
    "Ajk_median=np.median(df[['AJK']])\n",
    "Baloch_median=np.median(df[['Baloch.']])\n",
    "ICT_median=np.median(df[['ICT']])\n",
    "KP_median=np.median(df[['KP']])\n",
    "Sindh_median=np.median(df[['Sindh']])\n",
    "GB_median=np.median(df[['GB']])\n",
    "print(\"median of Ajk\", Ajk_median)\n",
    "print(\"median of Balochistan\", Baloch_median)\n",
    "print(\"median of ICT\", ICT_median)\n",
    "print(\"median of KP\", KP_median)\n",
    "print(\"median of SINDH\", Sindh_median)\n",
    "print(\"median of GB\", GB_median)"
   ]
  },
  {
   "cell_type": "code",
   "execution_count": 102,
   "id": "1f0077c7",
   "metadata": {},
   "outputs": [
    {
     "name": "stdout",
     "output_type": "stream",
     "text": [
      "std of Ajk AJK    14.914423\n",
      "dtype: float64\n",
      "std of Balochistan Baloch.    407.042123\n",
      "dtype: float64\n",
      "std of ICT ICT    35.141002\n",
      "dtype: float64\n",
      "std of KP KP    238.429864\n",
      "dtype: float64\n",
      "std of SINDH Sindh    1397.438585\n",
      "dtype: float64\n",
      "std of GB GB    4.284857\n",
      "dtype: float64\n"
     ]
    }
   ],
   "source": [
    "Ajk_std=np.std(df[['AJK']])\n",
    "Baloch_std=np.std(df[['Baloch.']])\n",
    "ICT_std=np.std(df[['ICT']])\n",
    "KP_std=np.std(df[['KP']])\n",
    "Sindh_std=np.std(df[['Sindh']])\n",
    "GB_std=np.std(df[['GB']])\n",
    "print(\"std of Ajk\", Ajk_std)\n",
    "print(\"std of Balochistan\", Baloch_std)\n",
    "print(\"std of ICT\", ICT_std)\n",
    "print(\"std of KP\", KP_std)\n",
    "print(\"std of SINDH\", Sindh_std)\n",
    "print(\"std of GB\", GB_std)"
   ]
  },
  {
   "cell_type": "code",
   "execution_count": 9,
   "id": "9c99d17a",
   "metadata": {},
   "outputs": [
    {
     "data": {
      "image/png": "[encoded data removed]",
      "text/plain": [
       "<Figure size 640x480 with 1 Axes>"
      ]
     },
     "metadata": {},
     "output_type": "display_data"
    }
   ],
   "source": [
    "import matplotlib.pyplot as plt\n",
    "\n",
    "fig, ax = plt.subplots()\n",
    "\n",
    "provinces = ['ICT', 'KP', 'GB', 'Sindh','Ajk','Balochistan']\n",
    "counts = [169, 2200, 28, 9600,54,2749]\n",
    "bar_labels = ['red', 'blue', '_red', 'orange','red','blue']\n",
    "bar_colors = ['tab:red', 'tab:blue', 'tab:red', 'tab:orange']\n",
    "\n",
    "ax.bar(provinces, counts, label=bar_labels, color=bar_colors)\n",
    "\n",
    "ax.set_ylabel('Particular region')\n",
    "ax.set_title('Provinces affected the most')\n",
    "ax.legend(title='Number of cases')\n",
    "\n",
    "plt.show()"
   ]
  },
  {
   "cell_type": "code",
   "execution_count": 11,
   "id": "321ef994",
   "metadata": {},
   "outputs": [],
   "source": [
    "Sindh=pd.read_csv(\"S_indh.csv\")"
   ]
  },
  {
   "cell_type": "code",
   "execution_count": 12,
   "id": "dc39c056",
   "metadata": {},
   "outputs": [
    {
     "data": {
      "text/html": [
       "<div>\n",
       "<style scoped>\n",
       "    .dataframe tbody tr th:only-of-type {\n",
       "        vertical-align: middle;\n",
       "    }\n",
       "\n",
       "    .dataframe tbody tr th {\n",
       "        vertical-align: top;\n",
       "    }\n",
       "\n",
       "    .dataframe thead th {\n",
       "        text-align: right;\n",
       "    }\n",
       "</style>\n",
       "<table border=\"1\" class=\"dataframe\">\n",
       "  <thead>\n",
       "    <tr style=\"text-align: right;\">\n",
       "      <th></th>\n",
       "      <th>Diseases</th>\n",
       "      <th>Ghotki</th>\n",
       "      <th>Hyderabad</th>\n",
       "      <th>Karachi\\nEast</th>\n",
       "      <th>Karachi\\nMalir</th>\n",
       "      <th>Naushero\\nFeroze</th>\n",
       "      <th>Shikarpur</th>\n",
       "      <th>Tharparkar</th>\n",
       "      <th>Total</th>\n",
       "    </tr>\n",
       "  </thead>\n",
       "  <tbody>\n",
       "    <tr>\n",
       "      <th>0</th>\n",
       "      <td>ILI</td>\n",
       "      <td>424</td>\n",
       "      <td>3130</td>\n",
       "      <td>1</td>\n",
       "      <td>256</td>\n",
       "      <td>370</td>\n",
       "      <td>3</td>\n",
       "      <td>87</td>\n",
       "      <td>4271</td>\n",
       "    </tr>\n",
       "    <tr>\n",
       "      <th>1</th>\n",
       "      <td>AD (Non-Cholera)</td>\n",
       "      <td>777</td>\n",
       "      <td>1018</td>\n",
       "      <td>132</td>\n",
       "      <td>662</td>\n",
       "      <td>303</td>\n",
       "      <td>84</td>\n",
       "      <td>93</td>\n",
       "      <td>3069</td>\n",
       "    </tr>\n",
       "    <tr>\n",
       "      <th>2</th>\n",
       "      <td>ALRI &lt; 5\\nyears</td>\n",
       "      <td>282</td>\n",
       "      <td>231</td>\n",
       "      <td>4</td>\n",
       "      <td>138</td>\n",
       "      <td>58</td>\n",
       "      <td>4</td>\n",
       "      <td>11</td>\n",
       "      <td>728</td>\n",
       "    </tr>\n",
       "    <tr>\n",
       "      <th>3</th>\n",
       "      <td>Malaria</td>\n",
       "      <td>196</td>\n",
       "      <td>28</td>\n",
       "      <td>36</td>\n",
       "      <td>13</td>\n",
       "      <td>268</td>\n",
       "      <td>12</td>\n",
       "      <td>39</td>\n",
       "      <td>592</td>\n",
       "    </tr>\n",
       "    <tr>\n",
       "      <th>4</th>\n",
       "      <td>S. Cholera</td>\n",
       "      <td>11</td>\n",
       "      <td>155</td>\n",
       "      <td>0</td>\n",
       "      <td>11</td>\n",
       "      <td>0</td>\n",
       "      <td>0</td>\n",
       "      <td>0</td>\n",
       "      <td>177</td>\n",
       "    </tr>\n",
       "    <tr>\n",
       "      <th>5</th>\n",
       "      <td>B. Diarrhea</td>\n",
       "      <td>187</td>\n",
       "      <td>54</td>\n",
       "      <td>2</td>\n",
       "      <td>16</td>\n",
       "      <td>33</td>\n",
       "      <td>1</td>\n",
       "      <td>4</td>\n",
       "      <td>297</td>\n",
       "    </tr>\n",
       "    <tr>\n",
       "      <th>6</th>\n",
       "      <td>Typhoid</td>\n",
       "      <td>86</td>\n",
       "      <td>12</td>\n",
       "      <td>0</td>\n",
       "      <td>50</td>\n",
       "      <td>92</td>\n",
       "      <td>1</td>\n",
       "      <td>17</td>\n",
       "      <td>258</td>\n",
       "    </tr>\n",
       "    <tr>\n",
       "      <th>7</th>\n",
       "      <td>VH (B, C &amp; D)</td>\n",
       "      <td>74</td>\n",
       "      <td>15</td>\n",
       "      <td>0</td>\n",
       "      <td>16</td>\n",
       "      <td>8</td>\n",
       "      <td>0</td>\n",
       "      <td>0</td>\n",
       "      <td>113</td>\n",
       "    </tr>\n",
       "    <tr>\n",
       "      <th>8</th>\n",
       "      <td>SARI</td>\n",
       "      <td>7</td>\n",
       "      <td>22</td>\n",
       "      <td>0</td>\n",
       "      <td>0</td>\n",
       "      <td>0</td>\n",
       "      <td>6</td>\n",
       "      <td>0</td>\n",
       "      <td>35</td>\n",
       "    </tr>\n",
       "    <tr>\n",
       "      <th>9</th>\n",
       "      <td>Measles</td>\n",
       "      <td>2</td>\n",
       "      <td>10</td>\n",
       "      <td>1</td>\n",
       "      <td>40</td>\n",
       "      <td>0</td>\n",
       "      <td>0</td>\n",
       "      <td>7</td>\n",
       "      <td>60</td>\n",
       "    </tr>\n",
       "    <tr>\n",
       "      <th>10</th>\n",
       "      <td>Chickenpox</td>\n",
       "      <td>1</td>\n",
       "      <td>2</td>\n",
       "      <td>6</td>\n",
       "      <td>7</td>\n",
       "      <td>0</td>\n",
       "      <td>2</td>\n",
       "      <td>0</td>\n",
       "      <td>18</td>\n",
       "    </tr>\n",
       "  </tbody>\n",
       "</table>\n",
       "</div>"
      ],
      "text/plain": [
       "            Diseases  Ghotki  Hyderabad  Karachi\\nEast  Karachi\\nMalir  \\\n",
       "0                ILI     424       3130              1             256   \n",
       "1   AD (Non-Cholera)     777       1018            132             662   \n",
       "2    ALRI < 5\\nyears     282        231              4             138   \n",
       "3            Malaria     196         28             36              13   \n",
       "4         S. Cholera      11        155              0              11   \n",
       "5        B. Diarrhea     187         54              2              16   \n",
       "6            Typhoid      86         12              0              50   \n",
       "7      VH (B, C & D)      74         15              0              16   \n",
       "8               SARI       7         22              0               0   \n",
       "9            Measles       2         10              1              40   \n",
       "10        Chickenpox       1          2              6               7   \n",
       "\n",
       "    Naushero\\nFeroze  Shikarpur  Tharparkar  Total  \n",
       "0                370          3          87   4271  \n",
       "1                303         84          93   3069  \n",
       "2                 58          4          11    728  \n",
       "3                268         12          39    592  \n",
       "4                  0          0           0    177  \n",
       "5                 33          1           4    297  \n",
       "6                 92          1          17    258  \n",
       "7                  8          0           0    113  \n",
       "8                  0          6           0     35  \n",
       "9                  0          0           7     60  \n",
       "10                 0          2           0     18  "
      ]
     },
     "execution_count": 12,
     "metadata": {},
     "output_type": "execute_result"
    }
   ],
   "source": [
    "Sindh"
   ]
  },
  {
   "cell_type": "code",
   "execution_count": 16,
   "id": "432f1420",
   "metadata": {},
   "outputs": [
    {
     "data": {
      "text/plain": [
       "9618"
      ]
     },
     "execution_count": 16,
     "metadata": {},
     "output_type": "execute_result"
    }
   ],
   "source": [
    "np.sum(Sindh[\"Total\"])"
   ]
  },
  {
   "cell_type": "code",
   "execution_count": 18,
   "id": "31bbce68",
   "metadata": {},
   "outputs": [],
   "source": [
    "dff = Sindh.drop(10)"
   ]
  },
  {
   "cell_type": "code",
   "execution_count": 19,
   "id": "4fb05541",
   "metadata": {},
   "outputs": [
    {
     "data": {
      "text/html": [
       "<div>\n",
       "<style scoped>\n",
       "    .dataframe tbody tr th:only-of-type {\n",
       "        vertical-align: middle;\n",
       "    }\n",
       "\n",
       "    .dataframe tbody tr th {\n",
       "        vertical-align: top;\n",
       "    }\n",
       "\n",
       "    .dataframe thead th {\n",
       "        text-align: right;\n",
       "    }\n",
       "</style>\n",
       "<table border=\"1\" class=\"dataframe\">\n",
       "  <thead>\n",
       "    <tr style=\"text-align: right;\">\n",
       "      <th></th>\n",
       "      <th>Diseases</th>\n",
       "      <th>Ghotki</th>\n",
       "      <th>Hyderabad</th>\n",
       "      <th>Karachi\\nEast</th>\n",
       "      <th>Karachi\\nMalir</th>\n",
       "      <th>Naushero\\nFeroze</th>\n",
       "      <th>Shikarpur</th>\n",
       "      <th>Tharparkar</th>\n",
       "      <th>Total</th>\n",
       "    </tr>\n",
       "  </thead>\n",
       "  <tbody>\n",
       "    <tr>\n",
       "      <th>0</th>\n",
       "      <td>ILI</td>\n",
       "      <td>424</td>\n",
       "      <td>3130</td>\n",
       "      <td>1</td>\n",
       "      <td>256</td>\n",
       "      <td>370</td>\n",
       "      <td>3</td>\n",
       "      <td>87</td>\n",
       "      <td>4271</td>\n",
       "    </tr>\n",
       "    <tr>\n",
       "      <th>1</th>\n",
       "      <td>AD (Non-Cholera)</td>\n",
       "      <td>777</td>\n",
       "      <td>1018</td>\n",
       "      <td>132</td>\n",
       "      <td>662</td>\n",
       "      <td>303</td>\n",
       "      <td>84</td>\n",
       "      <td>93</td>\n",
       "      <td>3069</td>\n",
       "    </tr>\n",
       "    <tr>\n",
       "      <th>2</th>\n",
       "      <td>ALRI &lt; 5\\nyears</td>\n",
       "      <td>282</td>\n",
       "      <td>231</td>\n",
       "      <td>4</td>\n",
       "      <td>138</td>\n",
       "      <td>58</td>\n",
       "      <td>4</td>\n",
       "      <td>11</td>\n",
       "      <td>728</td>\n",
       "    </tr>\n",
       "    <tr>\n",
       "      <th>3</th>\n",
       "      <td>Malaria</td>\n",
       "      <td>196</td>\n",
       "      <td>28</td>\n",
       "      <td>36</td>\n",
       "      <td>13</td>\n",
       "      <td>268</td>\n",
       "      <td>12</td>\n",
       "      <td>39</td>\n",
       "      <td>592</td>\n",
       "    </tr>\n",
       "    <tr>\n",
       "      <th>4</th>\n",
       "      <td>S. Cholera</td>\n",
       "      <td>11</td>\n",
       "      <td>155</td>\n",
       "      <td>0</td>\n",
       "      <td>11</td>\n",
       "      <td>0</td>\n",
       "      <td>0</td>\n",
       "      <td>0</td>\n",
       "      <td>177</td>\n",
       "    </tr>\n",
       "    <tr>\n",
       "      <th>5</th>\n",
       "      <td>B. Diarrhea</td>\n",
       "      <td>187</td>\n",
       "      <td>54</td>\n",
       "      <td>2</td>\n",
       "      <td>16</td>\n",
       "      <td>33</td>\n",
       "      <td>1</td>\n",
       "      <td>4</td>\n",
       "      <td>297</td>\n",
       "    </tr>\n",
       "    <tr>\n",
       "      <th>6</th>\n",
       "      <td>Typhoid</td>\n",
       "      <td>86</td>\n",
       "      <td>12</td>\n",
       "      <td>0</td>\n",
       "      <td>50</td>\n",
       "      <td>92</td>\n",
       "      <td>1</td>\n",
       "      <td>17</td>\n",
       "      <td>258</td>\n",
       "    </tr>\n",
       "    <tr>\n",
       "      <th>7</th>\n",
       "      <td>VH (B, C &amp; D)</td>\n",
       "      <td>74</td>\n",
       "      <td>15</td>\n",
       "      <td>0</td>\n",
       "      <td>16</td>\n",
       "      <td>8</td>\n",
       "      <td>0</td>\n",
       "      <td>0</td>\n",
       "      <td>113</td>\n",
       "    </tr>\n",
       "    <tr>\n",
       "      <th>8</th>\n",
       "      <td>SARI</td>\n",
       "      <td>7</td>\n",
       "      <td>22</td>\n",
       "      <td>0</td>\n",
       "      <td>0</td>\n",
       "      <td>0</td>\n",
       "      <td>6</td>\n",
       "      <td>0</td>\n",
       "      <td>35</td>\n",
       "    </tr>\n",
       "    <tr>\n",
       "      <th>9</th>\n",
       "      <td>Measles</td>\n",
       "      <td>2</td>\n",
       "      <td>10</td>\n",
       "      <td>1</td>\n",
       "      <td>40</td>\n",
       "      <td>0</td>\n",
       "      <td>0</td>\n",
       "      <td>7</td>\n",
       "      <td>60</td>\n",
       "    </tr>\n",
       "  </tbody>\n",
       "</table>\n",
       "</div>"
      ],
      "text/plain": [
       "           Diseases  Ghotki  Hyderabad  Karachi\\nEast  Karachi\\nMalir  \\\n",
       "0               ILI     424       3130              1             256   \n",
       "1  AD (Non-Cholera)     777       1018            132             662   \n",
       "2   ALRI < 5\\nyears     282        231              4             138   \n",
       "3           Malaria     196         28             36              13   \n",
       "4        S. Cholera      11        155              0              11   \n",
       "5       B. Diarrhea     187         54              2              16   \n",
       "6           Typhoid      86         12              0              50   \n",
       "7     VH (B, C & D)      74         15              0              16   \n",
       "8              SARI       7         22              0               0   \n",
       "9           Measles       2         10              1              40   \n",
       "\n",
       "   Naushero\\nFeroze  Shikarpur  Tharparkar  Total  \n",
       "0               370          3          87   4271  \n",
       "1               303         84          93   3069  \n",
       "2                58          4          11    728  \n",
       "3               268         12          39    592  \n",
       "4                 0          0           0    177  \n",
       "5                33          1           4    297  \n",
       "6                92          1          17    258  \n",
       "7                 8          0           0    113  \n",
       "8                 0          6           0     35  \n",
       "9                 0          0           7     60  "
      ]
     },
     "execution_count": 19,
     "metadata": {},
     "output_type": "execute_result"
    }
   ],
   "source": [
    "dff"
   ]
  },
  {
   "cell_type": "code",
   "execution_count": 20,
   "id": "062d3d64",
   "metadata": {},
   "outputs": [
    {
     "data": {
      "text/plain": [
       "9600"
      ]
     },
     "execution_count": 20,
     "metadata": {},
     "output_type": "execute_result"
    }
   ],
   "source": [
    "np.sum(dff[\"Total\"])"
   ]
  },
  {
   "cell_type": "code",
   "execution_count": 146,
   "id": "b7e290ac",
   "metadata": {},
   "outputs": [],
   "source": [
    "Each_District=np.sum(Sindh[[\"Ghotki\",\"Hyderabad\",\"Karachi\\nEast\",\"Karachi\\nMalir\",\"Naushero\\nFeroze\",\"Shikarpur\",\"Tharparkar\"]])"
   ]
  },
  {
   "cell_type": "code",
   "execution_count": 147,
   "id": "c77b9fa2",
   "metadata": {},
   "outputs": [
    {
     "data": {
      "text/plain": [
       "Ghotki              2047\n",
       "Hyderabad           4677\n",
       "Karachi\\nEast        182\n",
       "Karachi\\nMalir      1209\n",
       "Naushero\\nFeroze    1132\n",
       "Shikarpur            113\n",
       "Tharparkar           258\n",
       "dtype: int64"
      ]
     },
     "execution_count": 147,
     "metadata": {},
     "output_type": "execute_result"
    }
   ],
   "source": [
    "Each_District"
   ]
  },
  {
   "cell_type": "code",
   "execution_count": 135,
   "id": "b73998e3",
   "metadata": {},
   "outputs": [],
   "source": [
    "#Sindh_new1=Sindh.drop(\"Diseases\",axis=1)"
   ]
  },
  {
   "cell_type": "code",
   "execution_count": 136,
   "id": "5f2c3bef",
   "metadata": {},
   "outputs": [],
   "source": [
    "#Sindh_cld=Sindh_new1.drop(\"Total\",axis=1)"
   ]
  },
  {
   "cell_type": "code",
   "execution_count": 137,
   "id": "87ea32bc",
   "metadata": {},
   "outputs": [],
   "source": [
    "Sindh_cld01=Sindh_cld"
   ]
  },
  {
   "cell_type": "code",
   "execution_count": 138,
   "id": "98af068d",
   "metadata": {},
   "outputs": [],
   "source": [
    "Sindh_cld['Sum'] = Sindh_cld.apply(lambda row: row.sum(), axis=1)\n",
    "Sindh_cld01['Mean'] = Sindh_cld01.apply(lambda row: row.mean(), axis=1)\n",
    "Sindh_cld01['Median'] = Sindh_cld01.apply(lambda row: row.median(), axis=1)\n",
    "Sindh_cld01['Standard Deviation'] = Sindh_cld01.apply(lambda row: row.std(), axis=1)\n"
   ]
  },
  {
   "cell_type": "code",
   "execution_count": 139,
   "id": "f78e792c",
   "metadata": {},
   "outputs": [
    {
     "data": {
      "text/html": [
       "<div>\n",
       "<style scoped>\n",
       "    .dataframe tbody tr th:only-of-type {\n",
       "        vertical-align: middle;\n",
       "    }\n",
       "\n",
       "    .dataframe tbody tr th {\n",
       "        vertical-align: top;\n",
       "    }\n",
       "\n",
       "    .dataframe thead th {\n",
       "        text-align: right;\n",
       "    }\n",
       "</style>\n",
       "<table border=\"1\" class=\"dataframe\">\n",
       "  <thead>\n",
       "    <tr style=\"text-align: right;\">\n",
       "      <th></th>\n",
       "      <th>Ghotki</th>\n",
       "      <th>Hyderabad</th>\n",
       "      <th>Karachi\\nEast</th>\n",
       "      <th>Karachi\\nMalir</th>\n",
       "      <th>Naushero\\nFeroze</th>\n",
       "      <th>Shikarpur</th>\n",
       "      <th>Tharparkar</th>\n",
       "      <th>Sum</th>\n",
       "      <th>Mean</th>\n",
       "      <th>Median</th>\n",
       "      <th>Standard Deviation</th>\n",
       "    </tr>\n",
       "  </thead>\n",
       "  <tbody>\n",
       "    <tr>\n",
       "      <th>0</th>\n",
       "      <td>424</td>\n",
       "      <td>3130</td>\n",
       "      <td>1</td>\n",
       "      <td>256</td>\n",
       "      <td>370</td>\n",
       "      <td>3</td>\n",
       "      <td>87</td>\n",
       "      <td>4271</td>\n",
       "      <td>1067.75</td>\n",
       "      <td>370.0</td>\n",
       "      <td>1481.200004</td>\n",
       "    </tr>\n",
       "    <tr>\n",
       "      <th>1</th>\n",
       "      <td>777</td>\n",
       "      <td>1018</td>\n",
       "      <td>132</td>\n",
       "      <td>662</td>\n",
       "      <td>303</td>\n",
       "      <td>84</td>\n",
       "      <td>93</td>\n",
       "      <td>3069</td>\n",
       "      <td>767.25</td>\n",
       "      <td>662.0</td>\n",
       "      <td>877.026878</td>\n",
       "    </tr>\n",
       "    <tr>\n",
       "      <th>2</th>\n",
       "      <td>282</td>\n",
       "      <td>231</td>\n",
       "      <td>4</td>\n",
       "      <td>138</td>\n",
       "      <td>58</td>\n",
       "      <td>4</td>\n",
       "      <td>11</td>\n",
       "      <td>728</td>\n",
       "      <td>182.00</td>\n",
       "      <td>138.0</td>\n",
       "      <td>216.584702</td>\n",
       "    </tr>\n",
       "    <tr>\n",
       "      <th>3</th>\n",
       "      <td>196</td>\n",
       "      <td>28</td>\n",
       "      <td>36</td>\n",
       "      <td>13</td>\n",
       "      <td>268</td>\n",
       "      <td>12</td>\n",
       "      <td>39</td>\n",
       "      <td>592</td>\n",
       "      <td>148.00</td>\n",
       "      <td>39.0</td>\n",
       "      <td>182.598193</td>\n",
       "    </tr>\n",
       "    <tr>\n",
       "      <th>4</th>\n",
       "      <td>11</td>\n",
       "      <td>155</td>\n",
       "      <td>0</td>\n",
       "      <td>11</td>\n",
       "      <td>0</td>\n",
       "      <td>0</td>\n",
       "      <td>0</td>\n",
       "      <td>177</td>\n",
       "      <td>44.25</td>\n",
       "      <td>11.0</td>\n",
       "      <td>67.434335</td>\n",
       "    </tr>\n",
       "    <tr>\n",
       "      <th>5</th>\n",
       "      <td>187</td>\n",
       "      <td>54</td>\n",
       "      <td>2</td>\n",
       "      <td>16</td>\n",
       "      <td>33</td>\n",
       "      <td>1</td>\n",
       "      <td>4</td>\n",
       "      <td>297</td>\n",
       "      <td>74.25</td>\n",
       "      <td>33.0</td>\n",
       "      <td>97.117859</td>\n",
       "    </tr>\n",
       "    <tr>\n",
       "      <th>6</th>\n",
       "      <td>86</td>\n",
       "      <td>12</td>\n",
       "      <td>0</td>\n",
       "      <td>50</td>\n",
       "      <td>92</td>\n",
       "      <td>1</td>\n",
       "      <td>17</td>\n",
       "      <td>258</td>\n",
       "      <td>64.50</td>\n",
       "      <td>50.0</td>\n",
       "      <td>76.205297</td>\n",
       "    </tr>\n",
       "    <tr>\n",
       "      <th>7</th>\n",
       "      <td>74</td>\n",
       "      <td>15</td>\n",
       "      <td>0</td>\n",
       "      <td>16</td>\n",
       "      <td>8</td>\n",
       "      <td>0</td>\n",
       "      <td>0</td>\n",
       "      <td>113</td>\n",
       "      <td>28.25</td>\n",
       "      <td>15.0</td>\n",
       "      <td>37.362349</td>\n",
       "    </tr>\n",
       "    <tr>\n",
       "      <th>8</th>\n",
       "      <td>7</td>\n",
       "      <td>22</td>\n",
       "      <td>0</td>\n",
       "      <td>0</td>\n",
       "      <td>0</td>\n",
       "      <td>6</td>\n",
       "      <td>0</td>\n",
       "      <td>35</td>\n",
       "      <td>8.75</td>\n",
       "      <td>6.0</td>\n",
       "      <td>11.490606</td>\n",
       "    </tr>\n",
       "    <tr>\n",
       "      <th>9</th>\n",
       "      <td>2</td>\n",
       "      <td>10</td>\n",
       "      <td>1</td>\n",
       "      <td>40</td>\n",
       "      <td>0</td>\n",
       "      <td>0</td>\n",
       "      <td>7</td>\n",
       "      <td>60</td>\n",
       "      <td>15.00</td>\n",
       "      <td>7.0</td>\n",
       "      <td>20.032196</td>\n",
       "    </tr>\n",
       "    <tr>\n",
       "      <th>10</th>\n",
       "      <td>1</td>\n",
       "      <td>2</td>\n",
       "      <td>6</td>\n",
       "      <td>7</td>\n",
       "      <td>0</td>\n",
       "      <td>2</td>\n",
       "      <td>0</td>\n",
       "      <td>18</td>\n",
       "      <td>4.50</td>\n",
       "      <td>2.0</td>\n",
       "      <td>5.391609</td>\n",
       "    </tr>\n",
       "  </tbody>\n",
       "</table>\n",
       "</div>"
      ],
      "text/plain": [
       "    Ghotki  Hyderabad  Karachi\\nEast  Karachi\\nMalir  Naushero\\nFeroze  \\\n",
       "0      424       3130              1             256               370   \n",
       "1      777       1018            132             662               303   \n",
       "2      282        231              4             138                58   \n",
       "3      196         28             36              13               268   \n",
       "4       11        155              0              11                 0   \n",
       "5      187         54              2              16                33   \n",
       "6       86         12              0              50                92   \n",
       "7       74         15              0              16                 8   \n",
       "8        7         22              0               0                 0   \n",
       "9        2         10              1              40                 0   \n",
       "10       1          2              6               7                 0   \n",
       "\n",
       "    Shikarpur  Tharparkar   Sum     Mean  Median  Standard Deviation  \n",
       "0           3          87  4271  1067.75   370.0         1481.200004  \n",
       "1          84          93  3069   767.25   662.0          877.026878  \n",
       "2           4          11   728   182.00   138.0          216.584702  \n",
       "3          12          39   592   148.00    39.0          182.598193  \n",
       "4           0           0   177    44.25    11.0           67.434335  \n",
       "5           1           4   297    74.25    33.0           97.117859  \n",
       "6           1          17   258    64.50    50.0           76.205297  \n",
       "7           0           0   113    28.25    15.0           37.362349  \n",
       "8           6           0    35     8.75     6.0           11.490606  \n",
       "9           0           7    60    15.00     7.0           20.032196  \n",
       "10          2           0    18     4.50     2.0            5.391609  "
      ]
     },
     "execution_count": 139,
     "metadata": {},
     "output_type": "execute_result"
    }
   ],
   "source": [
    "Sindh_cld"
   ]
  },
  {
   "cell_type": "code",
   "execution_count": 63,
   "id": "2f7d902d",
   "metadata": {},
   "outputs": [],
   "source": [
    "#Find the middle value in the number of patients (useful for understanding the distribution).\n",
    "Median=np.median(df[['AJK','Baloch.','ICT','KP','Sindh']])"
   ]
  },
  {
   "cell_type": "code",
   "execution_count": 64,
   "id": "90110257",
   "metadata": {},
   "outputs": [
    {
     "data": {
      "text/plain": [
       "41.0"
      ]
     },
     "execution_count": 64,
     "metadata": {},
     "output_type": "execute_result"
    }
   ],
   "source": [
    "Median"
   ]
  },
  {
   "cell_type": "code",
   "execution_count": 65,
   "id": "7a50bf3f",
   "metadata": {},
   "outputs": [
    {
     "data": {
      "text/plain": [
       "AJK          14.914423\n",
       "Baloch.     407.042123\n",
       "ICT          35.141002\n",
       "KP          238.429864\n",
       "Sindh      1397.438585\n",
       "dtype: float64"
      ]
     },
     "execution_count": 65,
     "metadata": {},
     "output_type": "execute_result"
    }
   ],
   "source": [
    "#Calculate the standard deviation to measure the spread of data.\n",
    "np.std(df[['AJK','Baloch.','ICT','KP','Sindh']])"
   ]
  },
  {
   "cell_type": "code",
   "execution_count": 16,
   "id": "e606ca89",
   "metadata": {},
   "outputs": [
    {
     "data": {
      "text/plain": [
       "(10, 8)"
      ]
     },
     "execution_count": 16,
     "metadata": {},
     "output_type": "execute_result"
    }
   ],
   "source": [
    "df.shape"
   ]
  },
  {
   "cell_type": "code",
   "execution_count": 17,
   "id": "4226d54d",
   "metadata": {},
   "outputs": [],
   "source": [
    "x=df.loc[0]"
   ]
  },
  {
   "cell_type": "code",
   "execution_count": 28,
   "id": "86b795ce",
   "metadata": {},
   "outputs": [],
   "source": [
    "df1=pd.DataFrame(x)"
   ]
  },
  {
   "cell_type": "code",
   "execution_count": 45,
   "id": "76a97b1b",
   "metadata": {},
   "outputs": [
    {
     "data": {
      "text/html": [
       "<div>\n",
       "<style scoped>\n",
       "    .dataframe tbody tr th:only-of-type {\n",
       "        vertical-align: middle;\n",
       "    }\n",
       "\n",
       "    .dataframe tbody tr th {\n",
       "        vertical-align: top;\n",
       "    }\n",
       "\n",
       "    .dataframe thead th {\n",
       "        text-align: right;\n",
       "    }\n",
       "</style>\n",
       "<table border=\"1\" class=\"dataframe\">\n",
       "  <thead>\n",
       "    <tr style=\"text-align: right;\">\n",
       "      <th></th>\n",
       "      <th>0</th>\n",
       "    </tr>\n",
       "  </thead>\n",
       "  <tbody>\n",
       "    <tr>\n",
       "      <th>Diseases</th>\n",
       "      <td>ILI</td>\n",
       "    </tr>\n",
       "    <tr>\n",
       "      <th>AJK</th>\n",
       "      <td>0</td>\n",
       "    </tr>\n",
       "    <tr>\n",
       "      <th>Baloch.</th>\n",
       "      <td>1349</td>\n",
       "    </tr>\n",
       "    <tr>\n",
       "      <th>GB</th>\n",
       "      <td>0</td>\n",
       "    </tr>\n",
       "    <tr>\n",
       "      <th>ICT</th>\n",
       "      <td>63</td>\n",
       "    </tr>\n",
       "    <tr>\n",
       "      <th>KP</th>\n",
       "      <td>752</td>\n",
       "    </tr>\n",
       "    <tr>\n",
       "      <th>Sindh</th>\n",
       "      <td>4271</td>\n",
       "    </tr>\n",
       "    <tr>\n",
       "      <th>Total</th>\n",
       "      <td>6435</td>\n",
       "    </tr>\n",
       "  </tbody>\n",
       "</table>\n",
       "</div>"
      ],
      "text/plain": [
       "             0\n",
       "Diseases   ILI\n",
       "AJK          0\n",
       "Baloch.   1349\n",
       "GB           0\n",
       "ICT         63\n",
       "KP         752\n",
       "Sindh     4271\n",
       "Total     6435"
      ]
     },
     "execution_count": 45,
     "metadata": {},
     "output_type": "execute_result"
    }
   ],
   "source": [
    "df1"
   ]
  },
  {
   "cell_type": "code",
   "execution_count": 49,
   "id": "fcaf0407",
   "metadata": {},
   "outputs": [],
   "source": [
    "q=df1.columns = df1.iloc[0]"
   ]
  },
  {
   "cell_type": "code",
   "execution_count": 50,
   "id": "ac46dfa0",
   "metadata": {},
   "outputs": [
    {
     "data": {
      "text/plain": [
       "Diseases\n",
       "ILI    ILI\n",
       "Name: Diseases, dtype: object"
      ]
     },
     "execution_count": 50,
     "metadata": {},
     "output_type": "execute_result"
    }
   ],
   "source": [
    "q"
   ]
  },
  {
   "cell_type": "code",
   "execution_count": 52,
   "id": "d4f37460",
   "metadata": {},
   "outputs": [],
   "source": [
    "dfx= df1.columns.tolist()"
   ]
  },
  {
   "cell_type": "code",
   "execution_count": 53,
   "id": "6c1666c8",
   "metadata": {},
   "outputs": [
    {
     "data": {
      "text/plain": [
       "['ILI']"
      ]
     },
     "execution_count": 53,
     "metadata": {},
     "output_type": "execute_result"
    }
   ],
   "source": [
    "dfx"
   ]
  },
  {
   "cell_type": "code",
   "execution_count": 41,
   "id": "8fd71b3f",
   "metadata": {},
   "outputs": [],
   "source": [
    "#x=df[\"Diseases\"] = df.Diseases.replace({1: \"ILI\", 2: \"SARI\"})"
   ]
  },
  {
   "cell_type": "code",
   "execution_count": 42,
   "id": "722ee687",
   "metadata": {},
   "outputs": [
    {
     "data": {
      "text/plain": [
       "0                 ILI\n",
       "1    AD (Non-Cholera)\n",
       "2             Malaria\n",
       "3      ALRI < 5 years\n",
       "4                SARI\n",
       "5          S. Cholera\n",
       "6         B. Diarrhea\n",
       "7             Typhoid\n",
       "8       VH (B, C & D)\n",
       "9             Measles\n",
       "Name: Diseases, dtype: object"
      ]
     },
     "execution_count": 42,
     "metadata": {},
     "output_type": "execute_result"
    }
   ],
   "source": [
    "x"
   ]
  },
  {
   "cell_type": "code",
   "execution_count": 35,
   "id": "25d11d75",
   "metadata": {},
   "outputs": [
    {
     "data": {
      "text/plain": [
       "Diseases    AD (Non-Cholera)\n",
       "AJK                       50\n",
       "Baloch.                  664\n",
       "GB                        10\n",
       "ICT                      106\n",
       "KP                       458\n",
       "Sindh                   3069\n",
       "Total                   4357\n",
       "Name: 1, dtype: object"
      ]
     },
     "execution_count": 35,
     "metadata": {},
     "output_type": "execute_result"
    }
   ],
   "source": [
    "df.loc[1]"
   ]
  },
  {
   "cell_type": "code",
   "execution_count": null,
   "id": "3b66ea5d",
   "metadata": {},
   "outputs": [],
   "source": [
    "df.loc[2]"
   ]
  },
  {
   "cell_type": "code",
   "execution_count": 21,
   "id": "60240291",
   "metadata": {},
   "outputs": [
    {
     "data": {
      "text/plain": [
       "Diseases    ALRI < 5 years\n",
       "AJK                      0\n",
       "Baloch.                173\n",
       "GB                      12\n",
       "ICT                      0\n",
       "KP                      66\n",
       "Sindh                  728\n",
       "Total                  979\n",
       "Name: 3, dtype: object"
      ]
     },
     "execution_count": 21,
     "metadata": {},
     "output_type": "execute_result"
    }
   ],
   "source": [
    "df.loc[3]"
   ]
  },
  {
   "cell_type": "code",
   "execution_count": 80,
   "id": "e03e43a7",
   "metadata": {},
   "outputs": [],
   "source": [
    "transposed_df = df_new.T"
   ]
  },
  {
   "cell_type": "code",
   "execution_count": 81,
   "id": "98c0ac9a",
   "metadata": {},
   "outputs": [],
   "source": [
    "# Set the second row as column names\n",
    "transposed_df.columns = transposed_df_1.iloc[0]"
   ]
  },
  {
   "cell_type": "code",
   "execution_count": 83,
   "id": "aaf59541",
   "metadata": {},
   "outputs": [],
   "source": [
    "# Access the columns of the transposed DataFrame\n",
    "column_names = transposed_df.columns.tolist()"
   ]
  },
  {
   "cell_type": "code",
   "execution_count": 85,
   "id": "ea843a1a",
   "metadata": {},
   "outputs": [],
   "source": [
    "# Reset the index to remove the original column index/if not \n",
    "#transposed_df = transposed_df[2:]"
   ]
  },
  {
   "cell_type": "code",
   "execution_count": 86,
   "id": "7b95518e",
   "metadata": {},
   "outputs": [
    {
     "data": {
      "text/html": [
       "<div>\n",
       "<style scoped>\n",
       "    .dataframe tbody tr th:only-of-type {\n",
       "        vertical-align: middle;\n",
       "    }\n",
       "\n",
       "    .dataframe tbody tr th {\n",
       "        vertical-align: top;\n",
       "    }\n",
       "\n",
       "    .dataframe thead th {\n",
       "        text-align: right;\n",
       "    }\n",
       "</style>\n",
       "<table border=\"1\" class=\"dataframe\">\n",
       "  <thead>\n",
       "    <tr style=\"text-align: right;\">\n",
       "      <th>Diseases</th>\n",
       "      <th>ILI</th>\n",
       "      <th>AD (Non-Cholera)</th>\n",
       "      <th>Malaria</th>\n",
       "      <th>ALRI &lt; 5 years</th>\n",
       "      <th>SARI</th>\n",
       "      <th>S. Cholera</th>\n",
       "      <th>B. Diarrhea</th>\n",
       "      <th>Typhoid</th>\n",
       "      <th>VH (B, C &amp; D)</th>\n",
       "      <th>Measles</th>\n",
       "    </tr>\n",
       "  </thead>\n",
       "  <tbody>\n",
       "    <tr>\n",
       "      <th>Baloch.</th>\n",
       "      <td>1349</td>\n",
       "      <td>664</td>\n",
       "      <td>320</td>\n",
       "      <td>173</td>\n",
       "      <td>18</td>\n",
       "      <td>14</td>\n",
       "      <td>119</td>\n",
       "      <td>67</td>\n",
       "      <td>9</td>\n",
       "      <td>16</td>\n",
       "    </tr>\n",
       "    <tr>\n",
       "      <th>GB</th>\n",
       "      <td>0</td>\n",
       "      <td>10</td>\n",
       "      <td>0</td>\n",
       "      <td>12</td>\n",
       "      <td>3</td>\n",
       "      <td>0</td>\n",
       "      <td>0</td>\n",
       "      <td>3</td>\n",
       "      <td>0</td>\n",
       "      <td>0</td>\n",
       "    </tr>\n",
       "    <tr>\n",
       "      <th>ICT</th>\n",
       "      <td>63</td>\n",
       "      <td>106</td>\n",
       "      <td>0</td>\n",
       "      <td>0</td>\n",
       "      <td>0</td>\n",
       "      <td>0</td>\n",
       "      <td>0</td>\n",
       "      <td>0</td>\n",
       "      <td>0</td>\n",
       "      <td>0</td>\n",
       "    </tr>\n",
       "    <tr>\n",
       "      <th>KP</th>\n",
       "      <td>752</td>\n",
       "      <td>458</td>\n",
       "      <td>317</td>\n",
       "      <td>66</td>\n",
       "      <td>398</td>\n",
       "      <td>47</td>\n",
       "      <td>25</td>\n",
       "      <td>101</td>\n",
       "      <td>6</td>\n",
       "      <td>30</td>\n",
       "    </tr>\n",
       "    <tr>\n",
       "      <th>Sindh</th>\n",
       "      <td>4271</td>\n",
       "      <td>3069</td>\n",
       "      <td>592</td>\n",
       "      <td>728</td>\n",
       "      <td>35</td>\n",
       "      <td>177</td>\n",
       "      <td>297</td>\n",
       "      <td>258</td>\n",
       "      <td>113</td>\n",
       "      <td>60</td>\n",
       "    </tr>\n",
       "  </tbody>\n",
       "</table>\n",
       "</div>"
      ],
      "text/plain": [
       "Diseases   ILI AD (Non-Cholera) Malaria ALRI < 5 years SARI S. Cholera  \\\n",
       "Baloch.   1349              664     320            173   18         14   \n",
       "GB           0               10       0             12    3          0   \n",
       "ICT         63              106       0              0    0          0   \n",
       "KP         752              458     317             66  398         47   \n",
       "Sindh     4271             3069     592            728   35        177   \n",
       "\n",
       "Diseases B. Diarrhea Typhoid VH (B, C & D) Measles  \n",
       "Baloch.          119      67             9      16  \n",
       "GB                 0       3             0       0  \n",
       "ICT                0       0             0       0  \n",
       "KP                25     101             6      30  \n",
       "Sindh            297     258           113      60  "
      ]
     },
     "execution_count": 86,
     "metadata": {},
     "output_type": "execute_result"
    }
   ],
   "source": [
    "transposed_df"
   ]
  },
  {
   "cell_type": "code",
   "execution_count": 44,
   "id": "e29bf7cc",
   "metadata": {},
   "outputs": [
    {
     "ename": "KeyError",
     "evalue": "'0'",
     "output_type": "error",
     "traceback": [
      "\u001b[1;31m---------------------------------------------------------------------------\u001b[0m",
      "\u001b[1;31mKeyError\u001b[0m                                  Traceback (most recent call last)",
      "File \u001b[1;32m~\\AppData\\Local\\Programs\\Python\\Python311\\Lib\\site-packages\\pandas\\core\\indexes\\base.py:3653\u001b[0m, in \u001b[0;36mIndex.get_loc\u001b[1;34m(self, key)\u001b[0m\n\u001b[0;32m   3652\u001b[0m \u001b[38;5;28;01mtry\u001b[39;00m:\n\u001b[1;32m-> 3653\u001b[0m     \u001b[38;5;28;01mreturn\u001b[39;00m \u001b[38;5;28;43mself\u001b[39;49m\u001b[38;5;241;43m.\u001b[39;49m\u001b[43m_engine\u001b[49m\u001b[38;5;241;43m.\u001b[39;49m\u001b[43mget_loc\u001b[49m\u001b[43m(\u001b[49m\u001b[43mcasted_key\u001b[49m\u001b[43m)\u001b[49m\n\u001b[0;32m   3654\u001b[0m \u001b[38;5;28;01mexcept\u001b[39;00m \u001b[38;5;167;01mKeyError\u001b[39;00m \u001b[38;5;28;01mas\u001b[39;00m err:\n",
      "File \u001b[1;32m~\\AppData\\Local\\Programs\\Python\\Python311\\Lib\\site-packages\\pandas\\_libs\\index.pyx:147\u001b[0m, in \u001b[0;36mpandas._libs.index.IndexEngine.get_loc\u001b[1;34m()\u001b[0m\n",
      "File \u001b[1;32m~\\AppData\\Local\\Programs\\Python\\Python311\\Lib\\site-packages\\pandas\\_libs\\index.pyx:155\u001b[0m, in \u001b[0;36mpandas._libs.index.IndexEngine.get_loc\u001b[1;34m()\u001b[0m\n",
      "File \u001b[1;32mpandas\\_libs\\index_class_helper.pxi:70\u001b[0m, in \u001b[0;36mpandas._libs.index.Int64Engine._check_type\u001b[1;34m()\u001b[0m\n",
      "\u001b[1;31mKeyError\u001b[0m: '0'",
      "\nThe above exception was the direct cause of the following exception:\n",
      "\u001b[1;31mKeyError\u001b[0m                                  Traceback (most recent call last)",
      "Cell \u001b[1;32mIn[44], line 1\u001b[0m\n\u001b[1;32m----> 1\u001b[0m x \u001b[38;5;241m=\u001b[39m \u001b[43mdf1\u001b[49m\u001b[43m[\u001b[49m\u001b[38;5;124;43m'\u001b[39;49m\u001b[38;5;124;43m0\u001b[39;49m\u001b[38;5;124;43m'\u001b[39;49m\u001b[43m]\u001b[49m\n\u001b[0;32m      2\u001b[0m y \u001b[38;5;241m=\u001b[39m df1[\u001b[38;5;124m'\u001b[39m\u001b[38;5;124mDiseases\u001b[39m\u001b[38;5;124m'\u001b[39m]\n\u001b[0;32m      5\u001b[0m plt\u001b[38;5;241m.\u001b[39mfigure(figsize\u001b[38;5;241m=\u001b[39m(\u001b[38;5;241m8\u001b[39m, \u001b[38;5;241m6\u001b[39m)) \n",
      "File \u001b[1;32m~\\AppData\\Local\\Programs\\Python\\Python311\\Lib\\site-packages\\pandas\\core\\frame.py:3761\u001b[0m, in \u001b[0;36mDataFrame.__getitem__\u001b[1;34m(self, key)\u001b[0m\n\u001b[0;32m   3759\u001b[0m \u001b[38;5;28;01mif\u001b[39;00m \u001b[38;5;28mself\u001b[39m\u001b[38;5;241m.\u001b[39mcolumns\u001b[38;5;241m.\u001b[39mnlevels \u001b[38;5;241m>\u001b[39m \u001b[38;5;241m1\u001b[39m:\n\u001b[0;32m   3760\u001b[0m     \u001b[38;5;28;01mreturn\u001b[39;00m \u001b[38;5;28mself\u001b[39m\u001b[38;5;241m.\u001b[39m_getitem_multilevel(key)\n\u001b[1;32m-> 3761\u001b[0m indexer \u001b[38;5;241m=\u001b[39m \u001b[38;5;28;43mself\u001b[39;49m\u001b[38;5;241;43m.\u001b[39;49m\u001b[43mcolumns\u001b[49m\u001b[38;5;241;43m.\u001b[39;49m\u001b[43mget_loc\u001b[49m\u001b[43m(\u001b[49m\u001b[43mkey\u001b[49m\u001b[43m)\u001b[49m\n\u001b[0;32m   3762\u001b[0m \u001b[38;5;28;01mif\u001b[39;00m is_integer(indexer):\n\u001b[0;32m   3763\u001b[0m     indexer \u001b[38;5;241m=\u001b[39m [indexer]\n",
      "File \u001b[1;32m~\\AppData\\Local\\Programs\\Python\\Python311\\Lib\\site-packages\\pandas\\core\\indexes\\base.py:3655\u001b[0m, in \u001b[0;36mIndex.get_loc\u001b[1;34m(self, key)\u001b[0m\n\u001b[0;32m   3653\u001b[0m     \u001b[38;5;28;01mreturn\u001b[39;00m \u001b[38;5;28mself\u001b[39m\u001b[38;5;241m.\u001b[39m_engine\u001b[38;5;241m.\u001b[39mget_loc(casted_key)\n\u001b[0;32m   3654\u001b[0m \u001b[38;5;28;01mexcept\u001b[39;00m \u001b[38;5;167;01mKeyError\u001b[39;00m \u001b[38;5;28;01mas\u001b[39;00m err:\n\u001b[1;32m-> 3655\u001b[0m     \u001b[38;5;28;01mraise\u001b[39;00m \u001b[38;5;167;01mKeyError\u001b[39;00m(key) \u001b[38;5;28;01mfrom\u001b[39;00m \u001b[38;5;21;01merr\u001b[39;00m\n\u001b[0;32m   3656\u001b[0m \u001b[38;5;28;01mexcept\u001b[39;00m \u001b[38;5;167;01mTypeError\u001b[39;00m:\n\u001b[0;32m   3657\u001b[0m     \u001b[38;5;66;03m# If we have a listlike key, _check_indexing_error will raise\u001b[39;00m\n\u001b[0;32m   3658\u001b[0m     \u001b[38;5;66;03m#  InvalidIndexError. Otherwise we fall through and re-raise\u001b[39;00m\n\u001b[0;32m   3659\u001b[0m     \u001b[38;5;66;03m#  the TypeError.\u001b[39;00m\n\u001b[0;32m   3660\u001b[0m     \u001b[38;5;28mself\u001b[39m\u001b[38;5;241m.\u001b[39m_check_indexing_error(key)\n",
      "\u001b[1;31mKeyError\u001b[0m: '0'"
     ]
    }
   ],
   "source": [
    "x = df1['0']\n",
    "y = df1['Diseases']\n",
    "\n",
    "\n",
    "plt.figure(figsize=(8, 6)) \n",
    "plt.plot(x, y, label='Patient Counts', color='blue', linewidth=2)\n",
    "\n",
    "\n",
    "plt.xlabel('Diseases')\n",
    "plt.ylabel('Regions')\n",
    "plt.title('ILI Spread Since 24-30_May_21')\n",
    "\n",
    "\n",
    "plt.legend()\n",
    "\n",
    "plt.show()\n"
   ]
  },
  {
   "cell_type": "code",
   "execution_count": null,
   "id": "2677d975",
   "metadata": {},
   "outputs": [],
   "source": []
  },
  {
   "cell_type": "code",
   "execution_count": 30,
   "id": "64dc1b31",
   "metadata": {},
   "outputs": [
    {
     "data": {
      "image/png": "[encoded data removed]",
      "text/plain": [
       "<Figure size 640x480 with 1 Axes>"
      ]
     },
     "metadata": {},
     "output_type": "display_data"
    }
   ],
   "source": [
    "#df = pd.read_csv('24-30_May_21.csv') \n",
    "\n",
    "#df1=df.sort_values(by='o')\n",
    "transposed_df.plot()\n",
    "plt.show()"
   ]
  },
  {
   "cell_type": "code",
   "execution_count": 167,
   "id": "d06b2d16",
   "metadata": {},
   "outputs": [
    {
     "data": {
      "text/html": [
       "<div>\n",
       "<style scoped>\n",
       "    .dataframe tbody tr th:only-of-type {\n",
       "        vertical-align: middle;\n",
       "    }\n",
       "\n",
       "    .dataframe tbody tr th {\n",
       "        vertical-align: top;\n",
       "    }\n",
       "\n",
       "    .dataframe thead th {\n",
       "        text-align: right;\n",
       "    }\n",
       "</style>\n",
       "<table border=\"1\" class=\"dataframe\">\n",
       "  <thead>\n",
       "    <tr style=\"text-align: right;\">\n",
       "      <th></th>\n",
       "      <th>Diseases</th>\n",
       "      <th>AJK</th>\n",
       "      <th>Baloch.</th>\n",
       "      <th>GB</th>\n",
       "      <th>ICT</th>\n",
       "      <th>KP</th>\n",
       "      <th>Sindh</th>\n",
       "      <th>Total</th>\n",
       "    </tr>\n",
       "  </thead>\n",
       "  <tbody>\n",
       "    <tr>\n",
       "      <th>1</th>\n",
       "      <td>AD (Non-Cholera)</td>\n",
       "      <td>50</td>\n",
       "      <td>664</td>\n",
       "      <td>10</td>\n",
       "      <td>106</td>\n",
       "      <td>458</td>\n",
       "      <td>3069</td>\n",
       "      <td>4357</td>\n",
       "    </tr>\n",
       "    <tr>\n",
       "      <th>3</th>\n",
       "      <td>ALRI &lt; 5 years</td>\n",
       "      <td>0</td>\n",
       "      <td>173</td>\n",
       "      <td>12</td>\n",
       "      <td>0</td>\n",
       "      <td>66</td>\n",
       "      <td>728</td>\n",
       "      <td>979</td>\n",
       "    </tr>\n",
       "  </tbody>\n",
       "</table>\n",
       "</div>"
      ],
      "text/plain": [
       "           Diseases  AJK  Baloch.  GB  ICT   KP  Sindh  Total\n",
       "1  AD (Non-Cholera)   50      664  10  106  458   3069   4357\n",
       "3    ALRI < 5 years    0      173  12    0   66    728    979"
      ]
     },
     "execution_count": 167,
     "metadata": {},
     "output_type": "execute_result"
    }
   ],
   "source": [
    "df.iloc[[1, 3]]"
   ]
  },
  {
   "cell_type": "markdown",
   "id": "1b96bfe5",
   "metadata": {},
   "source": [
    "# Data Visualization"
   ]
  },
  {
   "cell_type": "code",
   "execution_count": 147,
   "id": "dc1fb9d9",
   "metadata": {},
   "outputs": [
    {
     "data": {
      "image/png": "[encoded data removed]",
      "text/plain": [
       "<Figure size 800x600 with 1 Axes>"
      ]
     },
     "metadata": {},
     "output_type": "display_data"
    }
   ],
   "source": [
    "df = pd.read_csv('24-30_May_21.csv') \n",
    "\n",
    "df = df.sort_values(by='Total')\n",
    "\n",
    "x = df['Total']\n",
    "y = df['Diseases']\n",
    "\n",
    "\n",
    "plt.figure(figsize=(8, 6)) \n",
    "plt.plot(x, y, label='Patient Counts', color='blue', linewidth=2)\n",
    "\n",
    "\n",
    "plt.xlabel('Total Patients')\n",
    "plt.ylabel('Diseases')\n",
    "plt.title('Disease Surveliance System')\n",
    "\n",
    "\n",
    "plt.legend()\n",
    "\n",
    "plt.show()\n"
   ]
  },
  {
   "cell_type": "code",
   "execution_count": 154,
   "id": "c588456d",
   "metadata": {},
   "outputs": [
    {
     "data": {
      "image/png": "[encoded data removed]",
      "text/plain": [
       "<Figure size 640x480 with 1 Axes>"
      ]
     },
     "metadata": {},
     "output_type": "display_data"
    }
   ],
   "source": [
    "df = pd.read_csv('24-30_May_21.csv') \n",
    "\n",
    "df1=df.sort_values(by='Total')\n",
    "df1.plot()\n",
    "plt.show()"
   ]
  },
  {
   "cell_type": "code",
   "execution_count": null,
   "id": "70c42889",
   "metadata": {},
   "outputs": [],
   "source": []
  },
  {
   "cell_type": "code",
   "execution_count": null,
   "id": "1c0929c6",
   "metadata": {},
   "outputs": [],
   "source": []
  }
 ],
 "metadata": {
  "kernelspec": {
   "display_name": "Python 3 (ipykernel)",
   "language": "python",
   "name": "python3"
  },
  "language_info": {
   "codemirror_mode": {
    "name": "ipython",
    "version": 3
   },
   "file_extension": ".py",
   "mimetype": "text/x-python",
   "name": "python",
   "nbconvert_exporter": "python",
   "pygments_lexer": "ipython3",
   "version": "3.11.4"
  }
 },
 "nbformat": 4,
 "nbformat_minor": 5
}
